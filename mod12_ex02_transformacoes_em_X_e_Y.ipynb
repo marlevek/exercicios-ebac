{
 "cells": [
  {
   "cell_type": "markdown",
   "metadata": {},
   "source": [
    "# Regressão 01 - tarefa 02 - transformações em X e Y"
   ]
  },
  {
   "cell_type": "markdown",
   "metadata": {},
   "source": [
    "### 1. Melhorando o ajuste no percentual de gorjetas\n",
    "\n",
    "a. Vamos partir do modelo feito na última tarefa, o que relaciona ```tip_pct``` e ```net_bill```. Carregue a base, os pacotes e reproduza este modelo aqui."
   ]
  },
  {
   "cell_type": "code",
   "execution_count": 1,
   "metadata": {},
   "outputs": [
    {
     "name": "stdout",
     "output_type": "stream",
     "text": [
      "                            OLS Regression Results                            \n",
      "==============================================================================\n",
      "Dep. Variable:                tip_pct   R-squared:                       0.091\n",
      "Model:                            OLS   Adj. R-squared:                  0.088\n",
      "Method:                 Least Squares   F-statistic:                     24.31\n",
      "Date:                Wed, 09 Aug 2023   Prob (F-statistic):           1.52e-06\n",
      "Time:                        10:30:17   Log-Likelihood:                 108.00\n",
      "No. Observations:                 244   AIC:                            -212.0\n",
      "Df Residuals:                     242   BIC:                            -205.0\n",
      "Df Model:                           1                                         \n",
      "Covariance Type:            nonrobust                                         \n",
      "==============================================================================\n",
      "                 coef    std err          t      P>|t|      [0.025      0.975]\n",
      "------------------------------------------------------------------------------\n",
      "Intercept      0.3053      0.023     13.166      0.000       0.260       0.351\n",
      "net_bill      -0.0061      0.001     -4.931      0.000      -0.009      -0.004\n",
      "==============================================================================\n",
      "Omnibus:                      468.674   Durbin-Watson:                   1.987\n",
      "Prob(Omnibus):                  0.000   Jarque-Bera (JB):           234437.604\n",
      "Skew:                          11.104   Prob(JB):                         0.00\n",
      "Kurtosis:                     153.221   Cond. No.                         43.3\n",
      "==============================================================================\n",
      "\n",
      "Notes:\n",
      "[1] Standard Errors assume that the covariance matrix of the errors is correctly specified.\n"
     ]
    },
    {
     "data": {
      "image/png": "[encoded data removed]",
      "text/plain": [
       "<Figure size 432x288 with 1 Axes>"
      ]
     },
     "metadata": {
      "needs_background": "light"
     },
     "output_type": "display_data"
    }
   ],
   "source": [
    "import pandas as pd\n",
    "import numpy as np\n",
    "import matplotlib.pyplot as plt\n",
    "import seaborn as sns \n",
    "from seaborn import load_dataset\n",
    "import statsmodels.formula.api as smf\n",
    "\n",
    "tips = sns.load_dataset('tips')\n",
    "tips['tip_pct'] = tips['tip'] / (tips['total_bill'] - tips['tip'])\n",
    "tips['net_bill'] = tips['total_bill'] - tips['tip']\n",
    "\n",
    "# Reproduzindo a regressão\n",
    "reg = smf.ols('tip_pct ~ net_bill', data=tips).fit()\n",
    "print(reg.summary())\n",
    "\n",
    "# gráfico de dispersão\n",
    "sns.regplot(y='tip_pct', x='net_bill', data = tips);"
   ]
  },
  {
   "cell_type": "markdown",
   "metadata": {},
   "source": [
    "### 2. ajuste o modelo de ```tip_pct``` em função do logaritmo de ```net_bill```."
   ]
  },
  {
   "cell_type": "code",
   "execution_count": 2,
   "metadata": {},
   "outputs": [
    {
     "name": "stdout",
     "output_type": "stream",
     "text": [
      "                            OLS Regression Results                            \n",
      "==============================================================================\n",
      "Dep. Variable:                tip_pct   R-squared:                       0.202\n",
      "Model:                            OLS   Adj. R-squared:                  0.198\n",
      "Method:                 Least Squares   F-statistic:                     61.16\n",
      "Date:                Wed, 09 Aug 2023   Prob (F-statistic):           1.62e-13\n",
      "Time:                        10:30:24   Log-Likelihood:                 123.81\n",
      "No. Observations:                 244   AIC:                            -243.6\n",
      "Df Residuals:                     242   BIC:                            -236.6\n",
      "Df Model:                           1                                         \n",
      "Covariance Type:            nonrobust                                         \n",
      "====================================================================================\n",
      "                       coef    std err          t      P>|t|      [0.025      0.975]\n",
      "------------------------------------------------------------------------------------\n",
      "Intercept            0.6181      0.054     11.444      0.000       0.512       0.724\n",
      "np.log(net_bill)    -0.1534      0.020     -7.820      0.000      -0.192      -0.115\n",
      "==============================================================================\n",
      "Omnibus:                      440.899   Durbin-Watson:                   1.965\n",
      "Prob(Omnibus):                  0.000   Jarque-Bera (JB):           171509.052\n",
      "Skew:                           9.850   Prob(JB):                         0.00\n",
      "Kurtosis:                     131.381   Cond. No.                         17.9\n",
      "==============================================================================\n",
      "\n",
      "Notes:\n",
      "[1] Standard Errors assume that the covariance matrix of the errors is correctly specified.\n"
     ]
    },
    {
     "data": {
      "text/plain": [
       "<matplotlib.lines.Line2D at 0x1df368aaec0>"
      ]
     },
     "execution_count": 2,
     "metadata": {},
     "output_type": "execute_result"
    },
    {
     "data": {
      "image/png": "[encoded data removed]",
      "text/plain": [
       "<Figure size 432x288 with 1 Axes>"
      ]
     },
     "metadata": {
      "needs_background": "light"
     },
     "output_type": "display_data"
    }
   ],
   "source": [
    "reg = smf.ols('tip_pct ~ np.log(net_bill)', data=tips).fit()\n",
    "print(reg.summary())\n",
    "tips['tip_pct'] = reg.resid\n",
    "\n",
    "sns.scatterplot(x='net_bill', y='tip_pct', data=tips, alpha=.75)\n",
    "plt.axhline(y=0, color='r', linestyle='-')"
   ]
  },
  {
   "cell_type": "markdown",
   "metadata": {},
   "source": [
    "###  3. ajuste o modelo de ```tip_pct``` em função de um polinômio de segundo grau em ```net_bill```."
   ]
  },
  {
   "cell_type": "code",
   "execution_count": 15,
   "metadata": {},
   "outputs": [
    {
     "name": "stdout",
     "output_type": "stream",
     "text": [
      "                            OLS Regression Results                            \n",
      "==============================================================================\n",
      "Dep. Variable:                tip_pct   R-squared:                       0.018\n",
      "Model:                            OLS   Adj. R-squared:                  0.014\n",
      "Method:                 Least Squares   F-statistic:                     4.530\n",
      "Date:                Wed, 09 Aug 2023   Prob (F-statistic):             0.0343\n",
      "Time:                        10:38:00   Log-Likelihood:                 126.07\n",
      "No. Observations:                 244   AIC:                            -248.1\n",
      "Df Residuals:                     242   BIC:                            -241.1\n",
      "Df Model:                           1                                         \n",
      "Covariance Type:            nonrobust                                         \n",
      "=======================================================================================\n",
      "                          coef    std err          t      P>|t|      [0.025      0.975]\n",
      "---------------------------------------------------------------------------------------\n",
      "Intercept              -0.0414      0.022     -1.921      0.056      -0.084       0.001\n",
      "np.poly1d(net_bill)     0.0025      0.001      2.128      0.034       0.000       0.005\n",
      "==============================================================================\n",
      "Omnibus:                      460.587   Durbin-Watson:                   2.001\n",
      "Prob(Omnibus):                  0.000   Jarque-Bera (JB):           214702.636\n",
      "Skew:                          10.725   Prob(JB):                         0.00\n",
      "Kurtosis:                     146.729   Cond. No.                         43.3\n",
      "==============================================================================\n",
      "\n",
      "Notes:\n",
      "[1] Standard Errors assume that the covariance matrix of the errors is correctly specified.\n"
     ]
    },
    {
     "data": {
      "text/plain": [
       "<matplotlib.lines.Line2D at 0x1df57d1f1c0>"
      ]
     },
     "execution_count": 15,
     "metadata": {},
     "output_type": "execute_result"
    },
    {
     "data": {
      "image/png": "[encoded data removed]",
      "text/plain": [
       "<Figure size 432x288 with 1 Axes>"
      ]
     },
     "metadata": {
      "needs_background": "light"
     },
     "output_type": "display_data"
    }
   ],
   "source": [
    "reg = smf.ols('tip_pct ~ np.poly1d(net_bill)', data=tips).fit()\n",
    "print(reg.summary())\n",
    "tips['tip_pct'] = reg.resid\n",
    "\n",
    "sns.scatterplot(x='net_bill', y='tip_pct', data=tips, alpha=.75)\n",
    "plt.axhline(y=0, color='r', linestyle='--')"
   ]
  },
  {
   "cell_type": "markdown",
   "metadata": {},
   "source": [
    "###  4. ajuste um modelo no log do ```tip_pct``` em função de ```net_bill```. Calcule o $R^2$ também em ```tip_pct```"
   ]
  },
  {
   "cell_type": "code",
   "execution_count": 18,
   "metadata": {},
   "outputs": [
    {
     "name": "stdout",
     "output_type": "stream",
     "text": [
      "                            OLS Regression Results                            \n",
      "==============================================================================\n",
      "Dep. Variable:        np.log(tip_pct)   R-squared:                       0.001\n",
      "Model:                            OLS   Adj. R-squared:                 -0.017\n",
      "Method:                 Least Squares   F-statistic:                   0.03799\n",
      "Date:                Wed, 09 Aug 2023   Prob (F-statistic):              0.846\n",
      "Time:                        10:41:37   Log-Likelihood:                -65.778\n",
      "No. Observations:                  57   AIC:                             135.6\n",
      "Df Residuals:                      55   BIC:                             139.6\n",
      "Df Model:                           1                                         \n",
      "Covariance Type:            nonrobust                                         \n",
      "==============================================================================\n",
      "                 coef    std err          t      P>|t|      [0.025      0.975]\n",
      "------------------------------------------------------------------------------\n",
      "Intercept     -0.4427      0.258     -1.714      0.092      -0.960       0.075\n",
      "net_bill       0.0025      0.013      0.195      0.846      -0.023       0.028\n",
      "==============================================================================\n",
      "Omnibus:                        6.516   Durbin-Watson:                   1.328\n",
      "Prob(Omnibus):                  0.038   Jarque-Bera (JB):                5.561\n",
      "Skew:                          -0.650   Prob(JB):                       0.0620\n",
      "Kurtosis:                       3.808   Cond. No.                         51.3\n",
      "==============================================================================\n",
      "\n",
      "Notes:\n",
      "[1] Standard Errors assume that the covariance matrix of the errors is correctly specified.\n"
     ]
    },
    {
     "name": "stderr",
     "output_type": "stream",
     "text": [
      "c:\\Users\\marce\\AppData\\Local\\Programs\\Python\\Python310\\lib\\site-packages\\pandas\\core\\arraylike.py:396: RuntimeWarning: invalid value encountered in log\n",
      "  result = getattr(ufunc, method)(*inputs, **kwargs)\n"
     ]
    },
    {
     "data": {
      "text/plain": [
       "<matplotlib.lines.Line2D at 0x1df5d51d330>"
      ]
     },
     "execution_count": 18,
     "metadata": {},
     "output_type": "execute_result"
    },
    {
     "data": {
      "image/png": "[encoded data removed]",
      "text/plain": [
       "<Figure size 432x288 with 1 Axes>"
      ]
     },
     "metadata": {
      "needs_background": "light"
     },
     "output_type": "display_data"
    }
   ],
   "source": [
    "reg = smf.ols('np.log(tip_pct) ~ net_bill', data=tips).fit()\n",
    "print(reg.summary())\n",
    "tips['tip_pct'] = reg.resid\n",
    "\n",
    "sns.scatterplot(x='net_bill', y='tip_pct', data=tips, alpha=.75)\n",
    "plt.axhline(y=0, color='r', linestyle='-')"
   ]
  },
  {
   "cell_type": "markdown",
   "metadata": {},
   "source": [
    "###  5. ajuste um modelo no log do ```tip_pct``` em função do log de ```net_bill```. Calcule o $R^2$ também em ```tip_pct```."
   ]
  },
  {
   "cell_type": "code",
   "execution_count": 19,
   "metadata": {},
   "outputs": [
    {
     "name": "stdout",
     "output_type": "stream",
     "text": [
      "                            OLS Regression Results                            \n",
      "==============================================================================\n",
      "Dep. Variable:        np.log(tip_pct)   R-squared:                       0.081\n",
      "Model:                            OLS   Adj. R-squared:                  0.050\n",
      "Method:                 Least Squares   F-statistic:                     2.644\n",
      "Date:                Wed, 09 Aug 2023   Prob (F-statistic):              0.114\n",
      "Time:                        10:42:19   Log-Likelihood:                -40.273\n",
      "No. Observations:                  32   AIC:                             84.55\n",
      "Df Residuals:                      30   BIC:                             87.48\n",
      "Df Model:                           1                                         \n",
      "Covariance Type:            nonrobust                                         \n",
      "====================================================================================\n",
      "                       coef    std err          t      P>|t|      [0.025      0.975]\n",
      "------------------------------------------------------------------------------------\n",
      "Intercept            0.3639      0.791      0.460      0.649      -1.252       1.980\n",
      "np.log(net_bill)    -0.4519      0.278     -1.626      0.114      -1.019       0.116\n",
      "==============================================================================\n",
      "Omnibus:                        8.381   Durbin-Watson:                   1.754\n",
      "Prob(Omnibus):                  0.015   Jarque-Bera (JB):                7.223\n",
      "Skew:                          -1.134   Prob(JB):                       0.0270\n",
      "Kurtosis:                       3.521   Cond. No.                         16.2\n",
      "==============================================================================\n",
      "\n",
      "Notes:\n",
      "[1] Standard Errors assume that the covariance matrix of the errors is correctly specified.\n"
     ]
    },
    {
     "name": "stderr",
     "output_type": "stream",
     "text": [
      "c:\\Users\\marce\\AppData\\Local\\Programs\\Python\\Python310\\lib\\site-packages\\pandas\\core\\arraylike.py:396: RuntimeWarning: invalid value encountered in log\n",
      "  result = getattr(ufunc, method)(*inputs, **kwargs)\n"
     ]
    },
    {
     "data": {
      "text/plain": [
       "<matplotlib.lines.Line2D at 0x1df5d7e8310>"
      ]
     },
     "execution_count": 19,
     "metadata": {},
     "output_type": "execute_result"
    },
    {
     "data": {
      "image/png": "[encoded data removed]",
      "text/plain": [
       "<Figure size 432x288 with 1 Axes>"
      ]
     },
     "metadata": {
      "needs_background": "light"
     },
     "output_type": "display_data"
    }
   ],
   "source": [
    "reg = smf.ols('np.log(tip_pct) ~ np.log(net_bill)', data=tips).fit()\n",
    "print(reg.summary())\n",
    "tips['tip_pct'] = reg.resid\n",
    "\n",
    "sns.scatterplot(x='net_bill', y='tip_pct', data=tips, alpha=.75)\n",
    "plt.axhline(y=0, color='r', linestyle='-')"
   ]
  },
  {
   "cell_type": "markdown",
   "metadata": {},
   "source": [
    "###  6. qual modelo resultou no melhor ajuste?"
   ]
  },
  {
   "cell_type": "code",
   "execution_count": 21,
   "metadata": {},
   "outputs": [],
   "source": [
    "# O modelo de melhor ajuste, devido a variância ser mais uniforme, foi no modelo no log de tip_pct em função de net_bill."
   ]
  }
 ],
 "metadata": {
  "kernelspec": {
   "display_name": "Python 3",
   "language": "python",
   "name": "python3"
  },
  "language_info": {
   "codemirror_mode": {
    "name": "ipython",
    "version": 3
   },
   "file_extension": ".py",
   "mimetype": "text/x-python",
   "name": "python",
   "nbconvert_exporter": "python",
   "pygments_lexer": "ipython3",
   "version": "3.10.1"
  }
 },
 "nbformat": 4,
 "nbformat_minor": 4
}
